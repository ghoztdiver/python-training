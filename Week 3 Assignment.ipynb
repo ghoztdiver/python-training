{
 "cells": [
  {
   "cell_type": "markdown",
   "id": "48e5a434-6f53-48e9-b4a5-323759bbf3ff",
   "metadata": {},
   "source": [
    "# Week 3 Assignment\n",
    "\n",
    "## Pre-Assignment Instructions\n",
    "Run the following code blocks and observe the output closely. Don't worry if you cannot understand what's going on in every line, just observe what you can and try to imagine what the lines might do before you run them."
   ]
  },
  {
   "cell_type": "markdown",
   "id": "d0c871e0-48ba-426e-af9b-c43e818a9807",
   "metadata": {},
   "source": [
    "## Math Functions"
   ]
  },
  {
   "cell_type": "code",
   "execution_count": 1,
   "id": "53fab46b-e3d2-4b49-9c57-95830f583878",
   "metadata": {},
   "outputs": [
    {
     "name": "stdout",
     "output_type": "stream",
     "text": [
      "10.0\n"
     ]
    }
   ],
   "source": [
    "def math_functions():\n",
    "    \n",
    "    # example of using functions from a module\n",
    "    # we import the built-in math module\n",
    "    import math\n",
    "    print(math.sqrt(100))\n",
    "    \n",
    "math_functions()"
   ]
  },
  {
   "cell_type": "markdown",
   "id": "6cf6e49b-33c3-4daf-8c5d-27f36184ec3c",
   "metadata": {},
   "source": [
    "## Custom Functions"
   ]
  },
  {
   "cell_type": "code",
   "execution_count": 2,
   "id": "6e9a638c-80d3-414d-b744-21b64a03d88b",
   "metadata": {},
   "outputs": [
    {
     "name": "stdout",
     "output_type": "stream",
     "text": [
      "16\n",
      "1\n"
     ]
    }
   ],
   "source": [
    "def custom_functions():\n",
    "    \n",
    "    # creating a custom function by using the def keyword, then giving the function name and argument(s)\n",
    "    def number_squared(x):\n",
    "        return x ** 2\n",
    "\n",
    "    print(number_squared(4)) # 16\n",
    "\n",
    "    # function that finds the difference between two numbers\n",
    "    def diff(first, second):\n",
    "        return first - second\n",
    "    print(diff(3,2)) # 1\n",
    "    \n",
    "custom_functions()"
   ]
  },
  {
   "cell_type": "markdown",
   "id": "9e536650-acc1-4986-9cc9-12df1da34f56",
   "metadata": {},
   "source": [
    "## Conditional Execution"
   ]
  },
  {
   "cell_type": "code",
   "execution_count": 3,
   "id": "c992db6f-3145-45ab-a27c-d808b5a38e58",
   "metadata": {},
   "outputs": [
    {
     "name": "stdout",
     "output_type": "stream",
     "text": [
      "even number\n",
      "odd number\n"
     ]
    }
   ],
   "source": [
    "def conditional_execution():\n",
    "    \n",
    "    # A simple example\n",
    "    def even_odd(x):\n",
    "        if x % 2 == 0:\n",
    "            print('even number')\n",
    "        else:\n",
    "            print('odd number')\n",
    "\n",
    "    even_odd(2) # even\n",
    "    even_odd(-1) # odd\n",
    "\n",
    "    # The next step in complexity\n",
    "    def pos_neg_zero(x):\n",
    "        if x > 0:\n",
    "            print('positive')\n",
    "        elif x < 0:\n",
    "            print('negative')\n",
    "        else:\n",
    "            print('zero')\n",
    "            \n",
    "conditional_execution()"
   ]
  },
  {
   "cell_type": "markdown",
   "id": "b7a7f1aa-7f03-4401-aca0-5fa83d6bb01e",
   "metadata": {},
   "source": [
    "## Functions And Iteration"
   ]
  },
  {
   "cell_type": "code",
   "execution_count": 5,
   "id": "fc69f3bc-fa15-406c-82ba-97e0efb0439c",
   "metadata": {},
   "outputs": [
    {
     "name": "stdout",
     "output_type": "stream",
     "text": [
      "[1, 3, 5, 7, 9] [1, 9, 5, 7, 81]\n"
     ]
    }
   ],
   "source": [
    "def functions_and_iteration():\n",
    "    \n",
    "    numbers = [1, 3, 5, 7, 9]\n",
    "\n",
    "    # function that squares numbers divisible by 3\n",
    "    def squares_of_3(x):\n",
    "        if x % 3 == 0:\n",
    "            return x ** 2\n",
    "        else:\n",
    "            return x\n",
    "    \n",
    "    # apply squares_of_3() to every number of the numbers list. store those results in new_numbers\n",
    "    new_numbers = []\n",
    "\n",
    "    for i in range(len(numbers)):\n",
    "        new_numbers.append(squares_of_3(numbers[i]))\n",
    "    print(numbers, new_numbers)\n",
    "    \n",
    "functions_and_iteration()"
   ]
  },
  {
   "cell_type": "markdown",
   "id": "32b196d1-2c53-45eb-8bc4-1ba5fcf6b352",
   "metadata": {},
   "source": [
    "## Math Functions Exercise"
   ]
  },
  {
   "cell_type": "code",
   "execution_count": 6,
   "id": "c04d77b9-82c7-430a-964a-8f940e2f959c",
   "metadata": {},
   "outputs": [
    {
     "name": "stdout",
     "output_type": "stream",
     "text": [
      "<class 'module'>\n",
      "3.0\n"
     ]
    }
   ],
   "source": [
    "def math_functions_exercise():\n",
    "    \n",
    "    # import the python math library, and alias it as m\n",
    "    import XXXX as XXXX\n",
    "    \n",
    "    print(type(m))\n",
    "\n",
    "    # find the base-10 logarithm of 1000\n",
    "    ans = m.log10(XXXX)\n",
    "    \n",
    "    print(ans)\n",
    "\n",
    "math_functions_exercise()"
   ]
  },
  {
   "cell_type": "markdown",
   "id": "b12aac2a-91c5-4a98-8f2a-bacb874dfb32",
   "metadata": {},
   "source": [
    "## Custom Function Exercise"
   ]
  },
  {
   "cell_type": "code",
   "execution_count": 7,
   "id": "63013c63-cca9-4ea7-8a37-38c1817dc749",
   "metadata": {},
   "outputs": [
    {
     "name": "stdout",
     "output_type": "stream",
     "text": [
      "16\n"
     ]
    }
   ],
   "source": [
    "def custom_function_exercise():\n",
    "    \n",
    "    # create a function called min_max_range, that returns the difference between the min and max numbers in a list \n",
    "    x = [3, 1, 17, 2]\n",
    "    \n",
    "    def min_max_range(myList):\n",
    "        a = max(XXXX)\n",
    "        b = min(XXXX)\n",
    "        return XXXX - XXXX\n",
    "    \n",
    "    print(min_max_range(x))\n",
    "    \n",
    "custom_function_exercise()"
   ]
  },
  {
   "cell_type": "markdown",
   "id": "57a2f91a-efc0-41a8-8f96-f8f5e7c6e9f6",
   "metadata": {},
   "source": [
    "## Conditional Execution Exercise"
   ]
  },
  {
   "cell_type": "code",
   "execution_count": 9,
   "id": "7253c24a-2df4-4619-8f20-b48ce7619e4e",
   "metadata": {},
   "outputs": [
    {
     "name": "stdout",
     "output_type": "stream",
     "text": [
      "Fizz\n",
      "FizzBuzz\n",
      "Buzz\n",
      "Buzz\n",
      "FizzBuzz\n",
      "17\n",
      "Buzz\n",
      "FizzBuzz\n"
     ]
    }
   ],
   "source": [
    "def conditional_execution_exercise():\n",
    "    \n",
    "    # Write a program that prints 'Fizz' if a number is divisible by 3, 'Buzz' if divisible by 5, \n",
    "    # 'FizzBuzz' if divisible by 3 AND 5, 'this number's zero' if the number is zero, and the number as a string otherwise\n",
    "    # HINT: order of conditions matter!\n",
    "\n",
    "    # choose any number to check your work with by slicing from the list below\n",
    "    numbers = [-3, 0, 5, 10, 15, 17, 20, 30]\n",
    "    \n",
    "    for i in numbers:\n",
    "        if i % 3 == 0 and i % 5 == 0:\n",
    "            print ('FizzBuzz')\n",
    "        elif i % 3 == 0:\n",
    "            print ('Fizz')\n",
    "        elif i % 5 == 0:\n",
    "            print ('Buzz')\n",
    "        else:\n",
    "            print (str(i))\n",
    "    \n",
    "conditional_execution_exercise()"
   ]
  },
  {
   "cell_type": "code",
   "execution_count": null,
   "id": "1865e7b7-5ca2-41e4-843c-82eb4da12e03",
   "metadata": {},
   "outputs": [],
   "source": []
  }
 ],
 "metadata": {
  "kernelspec": {
   "display_name": "Python 3 (ipykernel)",
   "language": "python",
   "name": "python3"
  },
  "language_info": {
   "codemirror_mode": {
    "name": "ipython",
    "version": 3
   },
   "file_extension": ".py",
   "mimetype": "text/x-python",
   "name": "python",
   "nbconvert_exporter": "python",
   "pygments_lexer": "ipython3",
   "version": "3.10.6"
  }
 },
 "nbformat": 4,
 "nbformat_minor": 5
}
