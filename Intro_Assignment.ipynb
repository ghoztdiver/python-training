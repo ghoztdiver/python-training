{
 "cells": [
  {
   "cell_type": "markdown",
   "id": "e7b3ea2c-d9a5-44da-a5c6-bb74f6e10772",
   "metadata": {},
   "source": [
    "# Intro Assignment: Turtle Graphics\n",
    "\n",
    "The following cell will set up our turtle program, and the cell after that will show us how to draw a quick and easy picture."
   ]
  },
  {
   "cell_type": "code",
   "execution_count": null,
   "id": "285efdd7-3aee-4890-a199-44e921c50c5c",
   "metadata": {},
   "outputs": [],
   "source": [
    "# Run this cell first !!!\n",
    "!pip3 install ColabTurtle\n",
    "from ColabTurtle.Turtle import *"
   ]
  },
  {
   "cell_type": "code",
   "execution_count": null,
   "id": "2128fa9a-ce3b-4099-9fa0-e946f7624da3",
   "metadata": {},
   "outputs": [],
   "source": [
    "# Run this cell second\n",
    "initializeTurtle()\n",
    "\n",
    "color('mediumblue')\n",
    "penup()\n",
    "goto(300, 250)\n",
    "pendown()\n",
    "forward(100)\n",
    "left(90)\n",
    "forward(100)\n",
    "right(180)\n",
    "forward(200)\n",
    "penup( )\n",
    "forward(100)\n",
    "penup()\n",
    "goto(300, 250)\n",
    "pendown()\n",
    "forward(100)\n",
    "left(90)\n",
    "forward(100)\n",
    "right(180)\n",
    "forward(200)\n",
    "penup( )\n",
    "forward(100)\n",
    "penup()\n",
    "goto(300, 250)\n",
    "pendown()\n",
    "forward(100)\n",
    "left(90)\n",
    "forward(100)\n",
    "right(180)\n",
    "forward(200)\n",
    "penup( )\n",
    "forward(200)\n",
    "penup( )\n",
    "goto(300, 250)\n",
    "pendown()\n",
    "forward(100)\n",
    "left(90)\n",
    "forward(100)\n",
    "right(180)\n",
    "forward(200)\n",
    "penup( )\n",
    "forward(100)"
   ]
  },
  {
   "cell_type": "markdown",
   "id": "30bcec82",
   "metadata": {},
   "source": [
    "- In the next cell down, fill in the code to write a scripting function like the myFunction( ) from lesson 01\n",
    "\n",
    "As you may notice the above code drew a small blue grid but it was kind of a waste of time to write all that code out because most of it was just a repeating set of the same steps.\n",
    "\n",
    "Your draw_picture( ) function below should be able to draw a picture and then move the turtle over in a direction with enough space to draw the same picture again in a new space the next time you call the function.\n",
    "\n",
    "Then be sure to call your picture 4 times to repeat the pattern you made.\n",
    "\n",
    "Here is a link to the instructions for the Turtle code library with some more exaples to try out: https://github.com/tolgaatam/ColabTurtle\n",
    "\n",
    "Next make your own markdown text cell to give yourself a title for a new picture. Make sure you put your markdwon text box \"above\" where your code lives.\n",
    "\n",
    "Have fun and screenshot your picture and your markdown title.\n",
    "\n",
    "*Hint: make sure that your function code is indented on the same indent level as \"initializeTurtle()\", and make sure that the code after the function bodies calls the function with no indent. When we make a new function we have to be careful about how we indents of our function body. Other programming languages use things like { } brackets to show where a new functions starts and ends. However, python uses indentations to figure out where functions begin and end. The python interpreter cares a lot if you use extra white space in the wrong places. In this case if you use spaces or tabs to indent it won't matter, so long as you stay constant in your use of them. As a rule of thumb, if it looks neat and tidy it should work correctly, but if things aren't working delete the white space and reindent things to the same level."
   ]
  },
  {
   "cell_type": "code",
   "execution_count": null,
   "id": "a2159913",
   "metadata": {},
   "outputs": [],
   "source": [
    "def draw_picture():\n",
    "    # put picture code lines here\n",
    "\n",
    "initializeTurtle()\n",
    "draw_picture()\n",
    "# call draw_picture more times here\n",
    "# call draw_picture more times here\n",
    "# call draw_picture more times here"
   ]
  }
 ],
 "metadata": {
  "kernelspec": {
   "display_name": "Python 3 (ipykernel)",
   "language": "python",
   "name": "python3"
  },
  "language_info": {
   "codemirror_mode": {
    "name": "ipython",
    "version": 3
   },
   "file_extension": ".py",
   "mimetype": "text/x-python",
   "name": "python",
   "nbconvert_exporter": "python",
   "pygments_lexer": "ipython3",
   "version": "3.10.6"
  }
 },
 "nbformat": 4,
 "nbformat_minor": 5
}
