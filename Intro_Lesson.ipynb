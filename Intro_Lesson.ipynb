{
 "cells": [
  {
   "cell_type": "markdown",
   "id": "39a89ca1-4eea-4ee1-a94d-e34456e1318d",
   "metadata": {},
   "source": [
    "# Lesson 01 - Basic Scripting Functions and Printing"
   ]
  },
  {
   "cell_type": "markdown",
   "id": "b1f4bc16-404d-4975-b5fe-f94256b5e677",
   "metadata": {},
   "source": [
    "- What is python?\n",
    "\n",
    "Python is a general purpose programming language.\n",
    "\n",
    "It's sometimes called a \"scripting\" language but it's more accurate to say \"Python is an interpreted language.\" \n",
    "\n",
    "Once upon a time,\n",
    "if something was a scripted language, that would imply it was some simple list of commands that are used to automate some set of tasks on a device, like a router, a media device, or a unix system.\n",
    "\n",
    "One of the earliest such scripting languages was TCL (or Tcl, pronounced \"Tickle\") and stands for Tool Command Language. Other examples include \"turtle\" graphics package scripts which use a short list of commands to draw images to a media device.\n",
    "\n",
    "To learn more about turtle graphics go here: https://en.wikipedia.org/wiki/Turtle_graphics\n",
    "\n",
    "However, python is a little more robust, modernized, and user friendly than Tcl or turtle graphics. Being an \"interpreted language\" it more broadly allows a programmer to write code for multiple device types, and all it needs to function is a python \"interpreter\" of some kind resident on that device, which translates that code into instructions sent to some kind of target system that can then understand and execute these as actions taken by some kind of local or external hardware.\n",
    "\n",
    "Let's get started.\n",
    "\n",
    "- Writing a Script"
   ]
  },
  {
   "cell_type": "code",
   "execution_count": 40,
   "id": "73e5605f-d4ab-491b-88f6-dba51ebf404c",
   "metadata": {},
   "outputs": [
    {
     "name": "stdout",
     "output_type": "stream",
     "text": [
      "Our doubts are traitors and make us lose the good we oft might win by fearing to attempt. --William Shakespear\n",
      "E = mc^2 : \n",
      "5.57228210816827e+18\n",
      "Done!\n"
     ]
    }
   ],
   "source": [
    "# Let's write a script!\n",
    "\n",
    "print(\"Our doubts are traitors and make us lose the good we oft might win by fearing to attempt. --William Shakespear\")\n",
    "\n",
    "# The mass of an average human\n",
    "m = 62.0;\n",
    "\n",
    "# The speed of light\n",
    "c = 299792458.0\n",
    "\n",
    "# Energy\n",
    "E = m * c * c\n",
    "\n",
    "print(\"E = mc^2 : \")\n",
    "print(E)\n",
    "print(\"Done!\")"
   ]
  },
  {
   "cell_type": "markdown",
   "id": "96fcd4f3-051d-4823-a637-1b8492ae8881",
   "metadata": {},
   "source": [
    "The above cell and cell output boxes have 4 comments, 7 lines of python script, and 4 lines out cell output.\n",
    "\n",
    "Traditional scripting langauge usually just has some things like \"commands\" and \"values\" writen in some kind of order to be followed like in this turtle graphics script:\n",
    "\n",
    "*turn left 25*\n",
    "\n",
    "*go forward 50*\n",
    "\n",
    "*turn right 90*\n",
    "\n",
    "*go forward 40*\n",
    "\n",
    "The python script portions above also have something similar to commands and values, they are called variables and functions and for now you can think of variables and functions as you would on a math exam or on some math homework. Variables contain some numbers (and sometimes contains other interesting values like letters or words) and functions contain some formula, set of instructions, or an algorithm that takes in those variables and does something useful with them.\n",
    "\n",
    "The single-line comments above are all marked with an octothorp \"#\" (or a \"pound sign\" or \"hash tag\" depending on your milage) and are ignored by the python interpreter. Regular code lines however, have no such required prepended or postfixed symbols. In otherwords, \"E = m * c * c\" for example, is a valid line of code by itself with nothing before or after it. However, optionally you may use a \";\" symbol as a line end marker if you wish to do so --as was done on the 6th line, but be warned this is not a popular choice among modern Python writers for various reasons.\n",
    "\n",
    "Python is an interpreted language because the interpreter executes script code line by line as it is read in a sequenced order from top to bottom (usually). This is in contrast to a compiled language like C/C++ or Basic, where the code is translated into instructions by a \"compiler\" before it is executed at a later time (called a runtime).\n",
    "\n",
    "When compiled language code is executed, the binary executable file instructions generated are only understood by the same system type the code was copiled for (i.e. a Windows machine with Intel Chips, a Unix system with AMD chips, a Mac with M1 CPU's etc...) whereas, in an interpreted language like Python, ALL binary code is already pre-compiled and waiting in the python interpreter's local file binary structre, and is called by the interpreter itself ONLY at runtime in the exact sequence you speicified in the code at the exact time you chose to run it.\n",
    "\n",
    "In this case above, the 7 lines of python script were sent to a python interpreter which was at some point living inside a webserver somewhere in the world which then exectued the code to support this .ipynb file \"notebook\" you're looking at now, and thus ran the output of the above script inside the code cell to this notebook's output box that lives directly under that cell above for you to read right now in a browser!"
   ]
  },
  {
   "cell_type": "markdown",
   "id": "f435c333-0ee5-4179-99da-e20c13cc6a9b",
   "metadata": {},
   "source": [
    "- Why learn python?\n",
    "\n",
    "You should learn Python because: \"It is a general purpose programming language.\"\n",
    "You may also wish to learn Python because: \"It is a modern programming language.\"\n",
    "\n",
    "Let's examine these two popular claims.\n",
    "\n",
    "Python has many modern conveniences that make quality of life better for the python programmer over older languages, and it can frankly just do a lot more than many other script languages can, partly because of the popularity it enjoys.\n",
    "\n",
    "One such convenience is this \"notebook\" application style of Python programming you see here, which has been born from the popularity of Python in the science world. There are many notebook style python interpreters out there from various companies and organizations (Google, Jupyter-Lab, Microsoft, etc...) and all of them have a slightly different set of bells and/or whistles. However, the main convenience they all share is the use of \"Markdown\" and the use of \"cells\". \n",
    "\n",
    "You've already seen these \"cells\" at work here in this lesson. The one thing all these notebooks have in common is the backing file format .ipynb which is not the same as a plain vanilla python script file. Plain python scripts come with an ending of .py and are much simpler in formatting, and are usually viewed in your choice of plain text editor. Other flavors of python workflow or python development environment exist as well, and you can read more about those here: https://realpython.com/python-ides-code-editors-guide/\n",
    "\n",
    "The most traditional style of python development workflow goes like this: a simple text editor is used to write a .py text file, and then you call that saved .py file on a text based command line using the python command like this -> \"python name_of_path_to_your_file.py\" or some similar invocation of the python interpreter binary command. This sends the .py file in question to be read by the python binary interpreter resident to that command line. \n",
    "\n",
    "Another way to use the python interpreter binary is in something called \"interactive mode\", which we'll deiscuss later.\n",
    "\n",
    "A modern \"wow factor\" also offered by notebooks exists right here. The text markdown in this text cell you're reading right now is another example of the benefits offered by a \"notebook\" style of environemnt and gives us a way to do some basic level of documentation \"where the code lives\" in plain english with some basic visual style options. Whereas the \"code\" cells in this notebook allow you to retain \"state data\" or in other words \"session data\" from previously run live cell runtimes 'as you go' through the notebook. After that you can wow onlookers by adding some nice charts and graphs to your output and boom! You have something similar to a nice lab report.\n",
    "\n",
    "Let's examine this \"session/state data\" concept a little more:"
   ]
  },
  {
   "cell_type": "code",
   "execution_count": 41,
   "id": "1291c6ae-2e2e-42e3-b70a-9f90e1b428b6",
   "metadata": {},
   "outputs": [
    {
     "name": "stdout",
     "output_type": "stream",
     "text": [
      "5.57228210816827e+18\n"
     ]
    }
   ],
   "source": [
    "print(E)"
   ]
  },
  {
   "cell_type": "markdown",
   "id": "6293ce06-9d40-4f89-b4fa-768d2f8dbc22",
   "metadata": {},
   "source": [
    "## Interactive Mode:\n",
    "\n",
    "The above command \"calls\" the print function and takes the argument of the variable E from the runtime data of the cell(s) above it in the current notebook and prints that above. \n",
    "\n",
    "This exposes two more modern nicities in Python. One is the ability to \"print everything everywhere\" which gives us a window into the runtime state of almost everything going on in any line of Python. Anytime you don't know what something does, or is, in Python code that you come across, you may simply print it the way we have above. This print behavior will give you a clue as to what the code you print out is doing. The other nice thing we've exposed here is python's ability to \"stand and wait\" without being told what to do next. This is the so called \"live\" or \"session\" state of a script.\n",
    "\n",
    "This ability to pause live code becomes more important if you've installed python on a computer or some kind of terminal somewhere because you can write code in a live \"interactive\" mode in real time, when you want to, and it will retain all of the variables and functions in your current state information for however long you need until you end the session by calling the exit( ) function. Calling exit( ) ends your current runtime and erases all the saved session information from the memory of the interpreter.\n",
    "\n",
    "Python notebooks work by exposing all your code cell input into this live \"interactive\" mode session of the interpreter and then waiting for additional cells to be run. Keep in mind that the rules for runtime behavior may change slightly from one brand of notebook application to another. However, in general, if you run a cell's code, you can expect all the cells below cell that will now run off that most recent code run to know what you already ran in the order they were run. Keep that in mind if you notice odd behavior from a notebook, it may be that you just need to start over your runtime and re-run all the previous cells to fix any unexpected behavior.\n",
    "\n",
    "To learn more about interactive notebooks go here: https://ipython.org/notebook\n",
    "\n",
    "Let's examine this live data a little more."
   ]
  },
  {
   "cell_type": "code",
   "execution_count": 42,
   "id": "aaf6c6d5-3e01-410f-afc3-a2e0b581081f",
   "metadata": {},
   "outputs": [
    {
     "name": "stdout",
     "output_type": "stream",
     "text": [
      "5.57228210816827e+18\n",
      "0.0\n",
      "20.0\n",
      "<class 'float'>\n"
     ]
    }
   ],
   "source": [
    "print(E)\n",
    "E = E - E\n",
    "print(E)\n",
    "E += 20.0\n",
    "print(E)\n",
    "print(type(E))"
   ]
  },
  {
   "cell_type": "markdown",
   "id": "9250a292-9173-41cf-a8c7-fd636e2642a0",
   "metadata": {},
   "source": [
    "## Let's unpack this...\n",
    "\n",
    "Again in the cell above we start by calling print on the variable E from the previous cells, and we should see it still has not changed from above.\n",
    "\n",
    "Next we do some very basic math and subtract E from itself and store that result back in the same variable E again. This automatically gives us a 0 because something minus itself is always 0. And we know that we stored that math result back inside E because we print it again and it shows us a 0 result.\n",
    "\n",
    "Next we use the += operator to show how we can shorthand these operations. (E += 20.0 is the same as saying E = E + 20.0) In fact we could have writen the subtraction we did before the exact same way (as E-= E instead of E = E - E) and it would have done the exact same thing. Then we printed E one more time just to show this change in action.\n",
    "\n",
    "To learn more about assignment operators go here: https://www.w3schools.com/python/gloss_python_assignment_operators.asp\n",
    "\n",
    "Last but not least, we didn't simply print E but we called the type( ) command on E and then printed the result of that type command function. This shows us what kind of variable E is. Type( ) is a sort of special command that allows us to know exactly what it is we are dealing with when it comes to our variables.\n",
    "\n",
    "...and there you have it: you can not only print any valid python expression using the print command to see what it does/is, but you can also ALWAYS pass any function into any other function or any variable into any other function...well... (sort of, but we'll talk about that next).\n",
    "\n",
    "So what are these so called \"functions\" anyway?"
   ]
  },
  {
   "cell_type": "code",
   "execution_count": 43,
   "id": "09a46df9-78a1-4a6b-9b0b-c9b6198d2868",
   "metadata": {},
   "outputs": [
    {
     "name": "stdout",
     "output_type": "stream",
     "text": [
      "Hello \n",
      "World!\n"
     ]
    }
   ],
   "source": [
    "def myFunction(a,b):\n",
    "    print(a)\n",
    "    print(b)\n",
    "    \n",
    "alpha = \"Hello \"\n",
    "bravo = \"World!\"\n",
    "\n",
    "myFunction(alpha,bravo)"
   ]
  },
  {
   "cell_type": "markdown",
   "id": "f4f3083c-fe1b-4273-9e4c-76b2d7342d23",
   "metadata": {},
   "source": [
    "# end scene...\n",
    "\n",
    "And there we have it folks, a scripting function.\n",
    "\n",
    "A scripting function called myFunction that takes two things and prints them in order. Calling something a \"scripting function\" just means that it is a list of actions to take and that list of actions doesn't contain what we refer to as a return statement. (In fact it is more correct to say that every function has an implied return statement, but we'll get into return statments more in depth later on) \n",
    "\n",
    "The imporant thing to know here is that if we write the keyword \"def\" and then write a function name like \"myFunction\" and then follow it up with a list of arguments like \"(a,b)\" then we can redo the script actions we indent below the def statment at any time we want to just by putting down the name of the function and filling in the arguments with something. That is exactly what we did here as well. \n",
    "\n",
    "In this case we make two variables \"alpha\" and \"bravo\" and we fill them in for a and for b, and then we have our complete function call \"myFunction(alpha,bravo)\" which then takes the two actions we specify and performs them exactly as you would expect and prints them both.\n",
    "\n",
    "Here is every function we've talked about so far now: print( ), exit( ), type( ), and now myFunction( )\n",
    "\n",
    "Every function in python is writen somewhere in a similar way to the myFunction( ) that we see above, with maybe a few minor differences in flavor.\n",
    "\n",
    "Later we will talk about how functions can take the place of a variable, and why we are able to pass one function into another function like we did when we wrote \"print(type(E))\" creating a \"nested function call\" and saving ourselves a few lines of code by doing so."
   ]
  },
  {
   "cell_type": "code",
   "execution_count": 44,
   "id": "149c72f1-d9f1-4176-8168-5e037d1d2adb",
   "metadata": {},
   "outputs": [
    {
     "name": "stdout",
     "output_type": "stream",
     "text": [
      "2022-08-29 18:31:53.393651\n"
     ]
    }
   ],
   "source": [
    "import datetime\n",
    "\n",
    "x = datetime.datetime.now()\n",
    "print(x)"
   ]
  },
  {
   "cell_type": "markdown",
   "id": "258865d2-f89a-4590-8c97-e5133f4bdfb8",
   "metadata": {},
   "source": [
    "## Last but not last...\n",
    "\n",
    "Here's one more keyword above\n",
    "\n",
    "import\n",
    "\n",
    "As with the keyword def before, keywords are a signal to the python interpreter that it's time to take notice of something important. In the case of def we are telling it \"Hey! I'm about to give you a new function for later use so you better pay attention.\"\n",
    "\n",
    "The import keyword is simply what we need to use to signal that we want to bring in more functions from somewhere else. In this case from a module called datetime, which pretty much does what you would expect.\n",
    "\n",
    "The line: x = datetime.datetime.now()\n",
    "\n",
    "...may look a little bit odd with all the periods between words, but the important thing here is the the now( ) function. We'll discuss the use of periods in later lessons but suffice it to say for now that they allow us to organize our functions in a lookup system so we can group related functions together in a helpful way. In this case it was used to look up the now( ) function and store the current date and time into the x variable which we then printed above."
   ]
  },
  {
   "cell_type": "markdown",
   "id": "8ac386ef-f820-4204-b313-90c1034ba4ad",
   "metadata": {},
   "source": [
    "## One more thing...\n",
    "\n",
    "Script languages are often used to make websites, and web apps, and languages such as: PHP, Ruby, and JavaScript do this well. Python can also be used for this purpose as well.\n",
    "\n",
    "Operating systems often come pre-installed with their own comand line shell script systems like Power Shell in Windows, or Bash in Linux. However Python can be used for this purpose as well.\n",
    "\n",
    "So you can start to see how learning python as a universal and \"general purpose\" programming language, makes you able to apply what you've learned in many places without having to increase your programming language knowledge too far and wide.\n",
    "\n",
    "Python is called \"general purpose\" because it can be used to script both OS commands AND other things like web apps. Additionally, in the last decade it has become increasingly popular in other areas. Python is used in scientific computing, data analysis, artificial intelligence, and more. \n",
    "Python is easy to learn for beginners compared to more production grade languages, and has many modules and libraries that allow for robust programming applications of it's own.\n",
    "\n",
    "- Here are some resources to get you started with using python outside of this lesson right out of the box:\n",
    "\n",
    "Codecademy's Learn Python track\n",
    "\n",
    "https://www.codecademy.com/learn/learn-python \n",
    "\n",
    "Python.org's basic tutorial\n",
    "\n",
    "https://docs.python.org/3/tutorial/index.html"
   ]
  },
  {
   "cell_type": "code",
   "execution_count": null,
   "id": "08adc471-191f-4bd9-a85b-fdcc14fccee2",
   "metadata": {},
   "outputs": [],
   "source": []
  }
 ],
 "metadata": {
  "kernelspec": {
   "display_name": "Python 3 (ipykernel)",
   "language": "python",
   "name": "python3"
  },
  "language_info": {
   "codemirror_mode": {
    "name": "ipython",
    "version": 3
   },
   "file_extension": ".py",
   "mimetype": "text/x-python",
   "name": "python",
   "nbconvert_exporter": "python",
   "pygments_lexer": "ipython3",
   "version": "3.10.6"
  }
 },
 "nbformat": 4,
 "nbformat_minor": 5
}
