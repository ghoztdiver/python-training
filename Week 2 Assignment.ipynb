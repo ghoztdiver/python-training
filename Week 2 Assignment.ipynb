{
 "cells": [
  {
   "cell_type": "markdown",
   "id": "5fa88a93-62b6-455a-9362-0b28a8b665ce",
   "metadata": {},
   "source": [
    "# Week 2 Assignment\n",
    "\n",
    "## Pre-Assignment Instructions\n",
    "Run the following code blocks and observe the output closely. Don't worry if you cannot understand what's going on in every line, just observe what you can and try to imagine what the lines might do before you run them."
   ]
  },
  {
   "cell_type": "markdown",
   "id": "5ab4d329-dc2d-4a24-bfa9-7fd54abda082",
   "metadata": {},
   "source": [
    "## String Review"
   ]
  },
  {
   "cell_type": "code",
   "execution_count": 1,
   "id": "1d6d9841-4965-4c5a-ba10-c5092df084c4",
   "metadata": {},
   "outputs": [
    {
     "name": "stdout",
     "output_type": "stream",
     "text": [
      "bad | ont\n",
      "BAD\n",
      "ONT\n",
      "badont\n",
      "bdn\n",
      "aot\n"
     ]
    }
   ],
   "source": [
    "def string_review():\n",
    "\n",
    "    # Reviewing string manipulation\n",
    "    \n",
    "    words = \"bad ont\"\n",
    "\n",
    "    # Slice words into first_word and second_word. Print each resulting variable\n",
    "    first_word = words[0:3]\n",
    "    second_word = words[4:]\n",
    "    print(first_word, \"|\", second_word)\n",
    "    \n",
    "    # using the str.upper() method to capitalize both words and print\n",
    "    print(first_word.upper())\n",
    "    print(second_word.upper())\n",
    "    \n",
    "    # concatenate the words back together into words_concat and print\n",
    "    words_concat = first_word + second_word\n",
    "    print(words_concat)\n",
    "    \n",
    "    # repeat the string twice by multiplying it by 2 and print\n",
    "\n",
    "    # print every other letter of words_concat, starting with the first letter\n",
    "    print(words_concat[::2]) # every other word\n",
    "    print(words_concat[1::2]) \n",
    "    \n",
    "string_review()"
   ]
  },
  {
   "cell_type": "markdown",
   "id": "a19d1117-c759-4a3e-9cdd-d7d81d6b079e",
   "metadata": {},
   "source": [
    "# Lists"
   ]
  },
  {
   "cell_type": "code",
   "execution_count": 2,
   "id": "63527ba7-73aa-4108-8d18-d77d24d35a87",
   "metadata": {},
   "outputs": [
    {
     "name": "stdout",
     "output_type": "stream",
     "text": [
      "[50, 70, 30, 20, 90]\n"
     ]
    }
   ],
   "source": [
    "def lists():\n",
    "    # For help go here: https://www.w3schools.com/python/python_strings_slicing.asp\n",
    "    \n",
    "    # Example list: start with a new list variable\n",
    "    lst = [50, 70, 30, 20, 90, 10, 50]\n",
    "    \n",
    "    # Example list slice code:: line to print the first 4 items - [50, 70, 30, 20, 90]\n",
    "    print(lst[0:5])\n",
    "    \n",
    "lists()"
   ]
  },
  {
   "cell_type": "markdown",
   "id": "eb89d9b3-26db-40a4-a7eb-3b3b0775f9d6",
   "metadata": {},
   "source": [
    "## List Method Examples"
   ]
  },
  {
   "cell_type": "code",
   "execution_count": 3,
   "id": "d0f1fe7d-3888-41d0-a992-5096f4790d01",
   "metadata": {},
   "outputs": [
    {
     "name": "stdout",
     "output_type": "stream",
     "text": [
      "[1, 2, 3, 4, 5, 6]\n",
      "[1, 2, 3, 4]\n",
      "[1, 2, 3]\n",
      "[5, 4, 3, 2, 1]\n",
      "[1, 2, 3, 4, 5]\n",
      "[5, 4, 3, 2, 1]\n"
     ]
    }
   ],
   "source": [
    "def list_method_examples():\n",
    "    x = [1, 2, 3]\n",
    "    y = [4, 5, 6]\n",
    "\n",
    "    # concatenating both into x_y\n",
    "    x_y = x + y\n",
    "    print(x_y) # could also do with x.extend(y) then simply referring to x afterwards\n",
    "\n",
    "    # appending an element\n",
    "    x.append(4)\n",
    "    print(x)\n",
    "\n",
    "    # removing an element\n",
    "    x.pop()\n",
    "    print(x)\n",
    "\n",
    "    # sorting\n",
    "    z = [5, 4, 3, 2, 1]\n",
    "    print(z)\n",
    "    z.sort()\n",
    "    print(z)\n",
    "    z.sort(reverse = True)\n",
    "    print(z)\n",
    "    \n",
    "list_method_examples()"
   ]
  },
  {
   "cell_type": "markdown",
   "id": "c5491f0e-317c-47fc-95ad-78c4b812e94e",
   "metadata": {},
   "source": [
    "## List Iteration Example"
   ]
  },
  {
   "cell_type": "code",
   "execution_count": 4,
   "id": "c6e7b486-448e-496d-bf78-1530d37bff93",
   "metadata": {},
   "outputs": [
    {
     "name": "stdout",
     "output_type": "stream",
     "text": [
      "[1, 3, 5]\n",
      "the number  1  times 100 is  100\n",
      "the number  3  times 100 is  300\n",
      "the number  5  times 100 is  500\n",
      "the product of  [1, 3, 5]  is  15\n"
     ]
    }
   ],
   "source": [
    "def list_iteration_example():\n",
    "    \n",
    "    # define a list with list(range(start, end, optional_step_size))\n",
    "\n",
    "    my_list = [1, 3, 5]\n",
    "    \n",
    "    print(my_list)\n",
    "\n",
    "    # multiply each element by 100 and print\n",
    "\n",
    "    for num in my_list:\n",
    "        print(\"the number \", num, \" times 100 is \", num * 100)\n",
    "\n",
    "    # return the product of all the numbers in the list\n",
    "    result = 1\n",
    "    for i in range(len(my_list)):\n",
    "        result = result * my_list[i]\n",
    "    print(\"the product of \", my_list, \" is \", result)\n",
    "    \n",
    "list_iteration_example()"
   ]
  },
  {
   "cell_type": "markdown",
   "id": "290d5b73-48b0-406c-ad81-d268893bd733",
   "metadata": {},
   "source": [
    "# Week 2 Exercises -------------------------------\n",
    "\n",
    "Fill in the following exercise prompts to complete the exercises below.\n",
    "\n",
    "NOTE: replace the XXXX with your answer(s) to give the correct output."
   ]
  },
  {
   "cell_type": "markdown",
   "id": "b1fd0993-0b74-47ae-8a18-aa516e639058",
   "metadata": {},
   "source": [
    "## List Slices Exercise"
   ]
  },
  {
   "cell_type": "code",
   "execution_count": 5,
   "id": "a2b39c43-eb2d-4414-bf63-58e94bac0300",
   "metadata": {},
   "outputs": [
    {
     "name": "stdout",
     "output_type": "stream",
     "text": [
      "[4, 6, 8]\n",
      "[1, 3, 5, 7, 9]\n",
      "[1, 2, 3, 4, 5, 6, 7, 8, 9]\n"
     ]
    }
   ],
   "source": [
    "def list_slices_exercise():\n",
    "\n",
    "    # Problems\n",
    "\n",
    "    # Initialize list\n",
    "    List = [1, 2, 3, 4, 5, 6, 7, 8, 9]\n",
    "\n",
    "    #Finish these 3 slice lines of code below by filling in the square brackets\n",
    "    \n",
    "    # Problem one print only [4, 6, 8]\n",
    "    print(List[XXXX])\n",
    "    \n",
    "    # Problem two print only [1, 3, 5, 7, 9]\n",
    "    print(List[XXXX])\n",
    "    \n",
    "    # Problem three print all of [1, 2, 3, 4, 5, 6, 7, 8, 9]\n",
    "    print(List[XXXX])\n",
    "    \n",
    "list_slices_exercise()"
   ]
  },
  {
   "cell_type": "markdown",
   "id": "33e4a1da-7dec-48f7-9a11-05b45ce668f7",
   "metadata": {},
   "source": [
    "## List Methods Exercises"
   ]
  },
  {
   "cell_type": "code",
   "execution_count": 6,
   "id": "10ee14c9-514a-49bb-93aa-784f0add10ba",
   "metadata": {},
   "outputs": [
    {
     "name": "stdout",
     "output_type": "stream",
     "text": [
      "['cheddar', 'swiss', 'provolone', 'panela', 'cotija']\n",
      "['turkey', 'ham', 'chicken', 'beef', 'pastrami']\n",
      "['cheddar', 'swiss', 'provolone', 'panela', 'cotija', 'turkey', 'ham', 'chicken', 'beef', 'pastrami']\n",
      "['cheddar', 'cotija', 'panela', 'provolone', 'swiss']\n"
     ]
    }
   ],
   "source": [
    "def list_methods_exercises():\n",
    "    \n",
    "    cheeses = ['cheddar', 'swiss', 'provolone', 'panela']\n",
    "    meats = ['turkey', 'ham', 'chicken', 'beef']\n",
    "\n",
    "    # append 'cotija' to cheeses, print cheeses\n",
    "    cheeses.append(XXXX)\n",
    "    print(cheeses)\n",
    "    # append 'pastrami' to meats, print meats\n",
    "    XXXX\n",
    "    print(meats)\n",
    "    # concatenate cheeses and meats in cheeses_and_meats\n",
    "    cheeses_and_meats = XXXX\n",
    "    print(cheeses_and_meats)\n",
    "\n",
    "    # sort cheeses, print\n",
    "    XXXX.sort()\n",
    "    print(cheeses)\n",
    "\n",
    "list_methods_exercises()"
   ]
  },
  {
   "cell_type": "markdown",
   "id": "e18c6e03-bdaa-451c-a44b-20172a360cbc",
   "metadata": {},
   "source": [
    "## List Iteration Exercise"
   ]
  },
  {
   "cell_type": "code",
   "execution_count": 7,
   "id": "03ce2a50-d73b-4468-ab4d-f0bce88b1354",
   "metadata": {},
   "outputs": [
    {
     "name": "stdout",
     "output_type": "stream",
     "text": [
      "[0.01, 0.03, 0.05]\n",
      "word\n",
      "yo\n",
      "0\n",
      "1\n",
      "9\n",
      "9\n"
     ]
    }
   ],
   "source": [
    "def list_iteration_exercise():\n",
    "    \n",
    "    # define a list from 1 to 5 grabbing only odd numbers\n",
    "    my_list = [1, 3, 5]\n",
    "\n",
    "    # create a list divided_by_100 where we divide each element in the list above by 100\n",
    "    result = []\n",
    "    for i in range(len(my_list)):\n",
    "        result.append(XXXX / 100)\n",
    "    print(result)\n",
    "\n",
    "    # print each item in a list\n",
    "    my_words = ['word', 'yo']\n",
    "\n",
    "    for item in my_words:\n",
    "        print(XXXX)\n",
    "    \n",
    "    \n",
    "    for i in range(len(my_words)):\n",
    "        print(i)\n",
    "        \n",
    "    # finally, find the sum of the original list except instead of looping, use the sum() function\n",
    "\n",
    "    res = 0\n",
    "    for i in range(len(my_list)):\n",
    "        res = res + my_list[i]\n",
    "    print(res)\n",
    "\n",
    "    # with the sum function\n",
    "    print(sum(my_list))\n",
    "    \n",
    "list_iteration_exercise()"
   ]
  },
  {
   "cell_type": "code",
   "execution_count": null,
   "id": "5ed3a4c2-cfae-4b8d-96a7-b279941404b4",
   "metadata": {},
   "outputs": [],
   "source": []
  }
 ],
 "metadata": {
  "kernelspec": {
   "display_name": "Python 3 (ipykernel)",
   "language": "python",
   "name": "python3"
  },
  "language_info": {
   "codemirror_mode": {
    "name": "ipython",
    "version": 3
   },
   "file_extension": ".py",
   "mimetype": "text/x-python",
   "name": "python",
   "nbconvert_exporter": "python",
   "pygments_lexer": "ipython3",
   "version": "3.10.6"
  }
 },
 "nbformat": 4,
 "nbformat_minor": 5
}
