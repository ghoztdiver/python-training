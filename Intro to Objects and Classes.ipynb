{
 "cells": [
  {
   "cell_type": "markdown",
   "id": "45ace01f-f9ec-4f8b-91eb-a51fe0be1a56",
   "metadata": {},
   "source": [
    "# Introduction to Objects and Classes\n",
    "\n",
    "In Python, an object is a collection of data with certain characteristics. Objects can be things like numbers, strings, lists, dictionaries, and even other objects. Every object has a certain type, which determines what kind of data it can store. Objects can also have certain methods, which are functions that can be used on the object.\n",
    "\n",
    "In fact, in the python language almost everything you interact with is an object. For example, when you type '5' into the interpreter, what you're actually doing is creating a new 'int' object with the value of 5."
   ]
  },
  {
   "cell_type": "code",
   "execution_count": 3,
   "id": "39d2f1f4-29bd-49f5-b15b-891e29c208d5",
   "metadata": {},
   "outputs": [
    {
     "name": "stdout",
     "output_type": "stream",
     "text": [
      "<class 'int'>\n"
     ]
    }
   ],
   "source": [
    "# For example\n",
    "value = 5\n",
    "print( type( value) )"
   ]
  },
  {
   "cell_type": "markdown",
   "id": "bae9f3ee-8436-49de-bdf9-64b62134c958",
   "metadata": {},
   "source": [
    "Notice how when we use the type( ) function to print value it tells us that it is a:\n",
    "\"Class of type 'int' \"\n",
    "\n",
    "So what does this mean? It means that the 'int' object is an instance of the 'int' class. Every object is an instance of some class. And every class is an object. Confused yet? Let's try to clear this up.\n",
    "\n",
    "In other programming languages you might be used to types like, int, float, double, char, and bool for example.\n",
    "\n",
    "Python, unlike other programming languages does not use \"types\" in the traditional sense of the word. \n",
    "\n",
    "Types are often pre-defined by the specifications of a programming language, but in python almost everything we interact with comes from something called a \"class\" and that's how new \"types\" of variables are born. In python it is often stated that:\n",
    "\n",
    "*\"Everything is either an object, a function, or a class\" \n",
    " \n",
    "This is an important concept to understand.\n",
    "\n",
    "So when you hear the word \"class\" used in Python, just think -newly defined type.\n",
    "\n",
    "In lay terms a \"class\" is just a set of instructions that defines how the \"types\" of objects we interact with behave. In other words, when we create a new \"int\" object, we are using the 'int' class as a template to create that object. The 'int' class has a set of instructions that determine how an 'int' object will behave. These instructions are things like \"int's can be added together\", \"int's can be subtracted\", \"int's can be multiplied\", etc.\n",
    "\n",
    "So if you'd like a new \"type\" to exist then you can make one any time by writing up the rules for it in a class template description. We'll go into more detail on this later, for now it's just important to understand that evey object we see has a set of instructions living somewhere that tells the object how to behave.\n",
    "\n",
    "The most common python class objects: \n",
    "int, float, string, list, dict and tuple. Lets examine some examples."
   ]
  },
  {
   "cell_type": "code",
   "execution_count": 4,
   "id": "79b40068-7797-4693-af46-825b463c20e3",
   "metadata": {},
   "outputs": [
    {
     "name": "stdout",
     "output_type": "stream",
     "text": [
      "<class 'str'>\n"
     ]
    }
   ],
   "source": [
    "# string example\n",
    "\n",
    "value = \"hello\"\n",
    "\n",
    "print ( type( value) )"
   ]
  },
  {
   "cell_type": "markdown",
   "id": "96485d31-e77b-4d33-8fa4-a586b43e7151",
   "metadata": {},
   "source": [
    "So just like before we have an object. That object is called \"value\" and when we ask what type it is we can see that it's of \"class str\" (otherwise known as a string)."
   ]
  },
  {
   "cell_type": "markdown",
   "id": "f63167f5-277e-4f79-8a77-cdfcd9b73c63",
   "metadata": {},
   "source": [
    "# Class Objects"
   ]
  },
  {
   "cell_type": "code",
   "execution_count": 9,
   "id": "4e24c031-b19f-48bf-9936-39faeb204e2c",
   "metadata": {},
   "outputs": [],
   "source": [
    "class Rectangle:\n",
    "  def __init__(self, height, width):\n",
    "    \n",
    "    # class attributes--------------\n",
    "    self.height = 1\n",
    "    self.width = 1\n",
    "    # ------------------------------\n",
    "    \n",
    "  # class function (method) number 1\n",
    "  def sayArea(self):\n",
    "    print(\"My area = \" + str(self.height * self.width))\n",
    "\n",
    "  # class function (method) number 2\n",
    "  def saySelf(self):\n",
    "    print(\"Hello, I am a \" + str(type(self)))\n",
    "\n",
    "    "
   ]
  },
  {
   "cell_type": "markdown",
   "id": "7668ba7b-0f79-45df-9b27-b93477b7f73b",
   "metadata": {},
   "source": [
    "## What is all this?\n",
    "\n",
    "Above we have the \"class definition\" of something called a Rectangle. Don't worry about understanding just yet what is going on here in the above code. \n",
    "\n",
    "What is important is that we can think of Rectangle as a new type of variable we can make now because of the above code.\n",
    "\n",
    "The above code is just the formal definition of what a Rectangle is and what it does.\n",
    "\n",
    "* Object Attributes:\n",
    "\n",
    "What an object is.\n",
    "\n",
    "An \"attribute\" or a \"property\" is just a variable that tells us \"What an object is.\", in this case we have one attribute that is a hight and one that is a width.\n",
    "\n",
    "* Object Methods (functions):\n",
    "\n",
    "What an object does.\n",
    "\n",
    "A method (or class function) is just a function that the object can \"do\" and you can call on this object to do that function at any time.\n",
    "\n",
    "## Let's Go Back to Strings"
   ]
  },
  {
   "cell_type": "code",
   "execution_count": 7,
   "id": "a6a6be16-9a56-4281-83bf-743d668ab965",
   "metadata": {},
   "outputs": [
    {
     "name": "stdout",
     "output_type": "stream",
     "text": [
      "Hi there!\n",
      "Hello there!\n"
     ]
    }
   ],
   "source": [
    "## Way 1 of making a string object\n",
    "myString = \"Hi there!\"\n",
    "print(myString)\n",
    "\n",
    "## Way 2 to make a string object\n",
    "myNewString = str(\"Hello there!\")\n",
    "print(myNewString)"
   ]
  },
  {
   "cell_type": "markdown",
   "id": "8ddfaa25-cec1-48a5-83ae-aa0a9e98824e",
   "metadata": {},
   "source": [
    "## New Objects\n",
    "\n",
    "So we can make a string in 2 ways as shown above.\n",
    "\n",
    "* Way 1 -- \n",
    "You can just hand over a string literal to a variable using the equal sign operator and Python already just \"knows\" that you want to make a new string called \"myString\" and you want it to be \"Hi there!\"\n",
    "\n",
    "* Way 2 -- \n",
    "You can tell python explcitly \"I would like a new object of type str please!\" and then call the str( ) function which is a special function that creates for us a new string object. In this case we tell the str( ) function to make us an object that has the literal value of \"Hello there!\" and you can see that it worked when we print out the variable we stored it in.\n",
    "\n",
    "### Let's Try Way 2 with Our Rectangle!"
   ]
  },
  {
   "cell_type": "code",
   "execution_count": 23,
   "id": "12691517-2c36-470b-84da-629c8c3c06cc",
   "metadata": {},
   "outputs": [
    {
     "name": "stdout",
     "output_type": "stream",
     "text": [
      "<class '__main__.Rectangle'>\n",
      "<class 'str'>\n"
     ]
    }
   ],
   "source": [
    "# Using Way 2 to declare a new object\n",
    "\n",
    "myNewRectangle = Rectangle(1,1)\n",
    "\n",
    "print( type( myNewRectangle) )\n",
    "print( type( myNewString) )"
   ]
  },
  {
   "cell_type": "code",
   "execution_count": 25,
   "id": "a2a0bd03-1f9f-4782-ab95-a0d8e4425488",
   "metadata": {},
   "outputs": [
    {
     "name": "stdout",
     "output_type": "stream",
     "text": [
      "1\n",
      "1\n",
      " \n",
      "Hello, I am a <class '__main__.Rectangle'>\n",
      "My area = 1\n",
      " \n",
      "this object has these attributes: \n",
      " \n",
      "['__class__', '__delattr__', '__dict__', '__dir__', '__doc__', '__eq__', '__format__', '__ge__', '__getattribute__', '__gt__', '__hash__', '__init__', '__init_subclass__', '__le__', '__lt__', '__module__', '__ne__', '__new__', '__reduce__', '__reduce_ex__', '__repr__', '__setattr__', '__sizeof__', '__str__', '__subclasshook__', '__weakref__', 'height', 'sayArea', 'saySelf', 'width']\n"
     ]
    }
   ],
   "source": [
    "# Let's print some attributes\n",
    "\n",
    "print( myNewRectangle.height)\n",
    "print( myNewRectangle.width)\n",
    "print(\" \")\n",
    "\n",
    "# Let's DO some methods! (Class Functions)\n",
    "\n",
    "myNewRectangle.saySelf()\n",
    "myNewRectangle.sayArea()\n",
    "print(\" \")\n",
    "\n",
    "# Next let's print out every attribute of our object\n",
    "print( \"this object has these attributes: \")\n",
    "print(\" \")\n",
    "print( dir(myNewRectangle) )"
   ]
  },
  {
   "cell_type": "markdown",
   "id": "141d1711-a1ec-4d64-a358-2d6454ad6e9a",
   "metadata": {},
   "source": [
    "## So what is all this garbage?\n",
    "\n",
    "You can see from the first 6 lines of code that using our myNewRectangle object is pretty easy. You can either just put a period and the name of an attribute, or you can put a period and the name of a function and Python pretty much just gives you what you want.\n",
    "\n",
    "On the last line however we call something called the dir( ) function. This function can be used to tell us a list of EVERYTHING an object IS or can DO for us at any time.\n",
    "\n",
    "In other words we can always, call dir( ) on something and find out all the secrets it has hidden from us.\n",
    "\n",
    "But, beware:\n",
    "\n",
    "Because we asked out Rectangle to cough up all the secrets it has it also spits up a whole bunch of confusing stuff like we saw above.\n",
    "\n",
    "Example: ['__class__', '__delattr__', '__dict__', '__dir__' ... ] etc etc etc...\n",
    "\n",
    "These first few attributes are the default class attributes and every single class in Python has most of these. For right now don't worry about what these are/do because it's good enough just to know that they allow Python to work smoothly in the background and do the things you'd like it to do with our classes and objects.\n",
    "\n",
    "NOTE: These special undrscore symbols before and after '__dict__' for instance, are called \"dunder\" or \"D-under\" or \"Double Underscore\" symbols, and they indicated that something is either hidden, or a constant variable, or not to be changed or a combination of all these. ...But basically you can just ignore them 99% of the time.\n",
    "\n",
    "### Focus on:\n",
    "\n",
    "The last bit of that long list of garbage is what we care about i.e.: '__str__', '__subclasshook__', '__weakref__', 'height', 'sayArea', 'saySelf', 'width']\n",
    "\n",
    "At the end we see the stuff we care about like height, sayArea, saySelf, and width. And these are the things that our object either \"can do\" or our object \"is\".\n",
    "\n",
    "### Let's look at a long list of methods (class functions)"
   ]
  },
  {
   "cell_type": "code",
   "execution_count": null,
   "id": "b5c9afbd-2ae5-473a-a0fd-2552025344bd",
   "metadata": {},
   "outputs": [],
   "source": [
    "# Fun with strings\n",
    "\n",
    "funString = str(8675309)\n",
    "\n",
    "print(funString)\n",
    "\n",
    "funString = funString + \" I got it! I got it!\"\n",
    "\n",
    "print(funString)\n",
    "\n",
    "funString = funString.upper()\n",
    "\n",
    "print(funString + \"I got your number on the wall.\")\n",
    "\n",
    "funString = funString.lower()\n",
    "\n",
    "print(funString)\n",
    "\n",
    "funString = funString[0:7] + str(\" For a good time \").title()\n",
    "funString = funString + str(funString[8:] + \"CALL!\").upper()\n",
    "\n",
    "print(funString)"
   ]
  }
 ],
 "metadata": {
  "kernelspec": {
   "display_name": "Python 3 (ipykernel)",
   "language": "python",
   "name": "python3"
  },
  "language_info": {
   "codemirror_mode": {
    "name": "ipython",
    "version": 3
   },
   "file_extension": ".py",
   "mimetype": "text/x-python",
   "name": "python",
   "nbconvert_exporter": "python",
   "pygments_lexer": "ipython3",
   "version": "3.10.6"
  }
 },
 "nbformat": 4,
 "nbformat_minor": 5
}
