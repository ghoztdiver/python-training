{
 "cells": [
  {
   "cell_type": "markdown",
   "id": "e7b3ea2c-d9a5-44da-a5c6-bb74f6e10772",
   "metadata": {},
   "source": [
    "# Turtle Assignment 01\n",
    "\n",
    "The following cell will set up our turtle program, and the cell after that will show us how to draw a quick and easy picture."
   ]
  },
  {
   "cell_type": "code",
   "execution_count": null,
   "id": "285efdd7-3aee-4890-a199-44e921c50c5c",
   "metadata": {},
   "outputs": [],
   "source": [
    "!pip3 install ColabTurtle\n",
    "from ColabTurtle.Turtle import *"
   ]
  },
  {
   "cell_type": "code",
   "execution_count": 2,
   "id": "2128fa9a-ce3b-4099-9fa0-e946f7624da3",
   "metadata": {},
   "outputs": [
    {
     "ename": "NameError",
     "evalue": "name 'initializeTurtle' is not defined",
     "output_type": "error",
     "traceback": [
      "\u001b[1;31m---------------------------------------------------------------------------\u001b[0m",
      "\u001b[1;31mNameError\u001b[0m                                 Traceback (most recent call last)",
      "Input \u001b[1;32mIn [2]\u001b[0m, in \u001b[0;36m<cell line: 1>\u001b[1;34m()\u001b[0m\n\u001b[1;32m----> 1\u001b[0m \u001b[43minitializeTurtle\u001b[49m()\n\u001b[0;32m      3\u001b[0m color(\u001b[38;5;124m'\u001b[39m\u001b[38;5;124mmediumblue\u001b[39m\u001b[38;5;124m'\u001b[39m)\n\u001b[0;32m      4\u001b[0m penup()\n",
      "\u001b[1;31mNameError\u001b[0m: name 'initializeTurtle' is not defined"
     ]
    }
   ],
   "source": [
    "initializeTurtle()\n",
    "\n",
    "color('mediumblue')\n",
    "penup()\n",
    "goto(100, 250)\n",
    "pendown()\n",
    "forward(100)\n",
    "left(90)\n",
    "forward(40)\n",
    "right(180)\n",
    "forward(80)"
   ]
  },
  {
   "cell_type": "markdown",
   "id": "30bcec82",
   "metadata": {},
   "source": [
    "- In the next cell fill in the code to write a scripting function like the myFunction( ) from lesson 01\n",
    "\n",
    "Your draw_picture( ) function should be able to draw a picture and then move the turtle over in a direction with enough space to draw the same picture again in a new space the next time you call the function.\n",
    "\n",
    "Call the draw_3_pictures() function to draw your picture 3 times.\n",
    "\n",
    "Here is a link to the instructions for the Turtle code library with some more exaples to try out: https://github.com/tolgaatam/ColabTurtle\n",
    "\n",
    "Next make your own markdown text cell to give yourself a title for a new picture, then make your own code cell and make your own new function to draw a picture from scratch, then call it to draw your picture.\n",
    "\n",
    "Have fun and share your pictures!\n",
    "\n",
    "*Hint: make sure that your function code is indented on the same indent level as \"initializeTurtle()\", and make sure that the code after the function bodies calls the function with no indent. When we make a new function we have to be careful about how we indents of our function body. Other programming languages use things like { } brackets to show where a new functions starts and ends. However, python uses indentations to figure out where functions begin and end. The python interpreter cares a lot if you use extra white space in the wrong places. In this case if you use spaces or tabs to indent it won't matter, so long as you stay constant in your use of them. As a rule of thumb, if it looks neat and tidy it should work correctly, but if things aren't working delete the white space and reindent things to the same level."
   ]
  },
  {
   "cell_type": "code",
   "execution_count": null,
   "id": "a2159913",
   "metadata": {},
   "outputs": [],
   "source": [
    "def draw_picture():\n",
    "    initializeTurtle()\n",
    "    # Put picture function code here...\n",
    "\n",
    "#leave this function alone\n",
    "def draw_3_pictures():\n",
    "    draw_picture()\n",
    "    draw_picture()\n",
    "    draw_picture()\n",
    "    \n",
    "# call the draw_3_pictures() function here\n"
   ]
  }
 ],
 "metadata": {
  "kernelspec": {
   "display_name": "Python 3 (ipykernel)",
   "language": "python",
   "name": "python3"
  },
  "language_info": {
   "codemirror_mode": {
    "name": "ipython",
    "version": 3
   },
   "file_extension": ".py",
   "mimetype": "text/x-python",
   "name": "python",
   "nbconvert_exporter": "python",
   "pygments_lexer": "ipython3",
   "version": "3.10.6"
  }
 },
 "nbformat": 4,
 "nbformat_minor": 5
}
