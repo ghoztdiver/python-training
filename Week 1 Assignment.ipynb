{
 "cells": [
  {
   "cell_type": "markdown",
   "id": "08c4e113-576a-4154-b9ad-9a76583c348d",
   "metadata": {},
   "source": [
    "# Week 1 Assignments\n",
    "\n",
    "## Pre-Assignment Instructions\n",
    "Run the following code blocks and observe the output closely. Don't worry if you cannot understand what's going on in every line, just observe what you can and try to imagine what the lines might do before you run them.\n",
    "\n",
    "If you are struggling to understand at all, make sure you have reviewed the Intro_Lesson and Week 1 Python Basics files."
   ]
  },
  {
   "cell_type": "markdown",
   "id": "7d1c7b81-7851-464a-bd58-9bc0157261e7",
   "metadata": {},
   "source": [
    "## Start and Calculator\n",
    "\n",
    "This first code block shows us a basic \"hello world\" program and some basic calculator functions.\n",
    "\n",
    "NOTE: We are placing all our code after \"def start_and_calculator():\"\n",
    "-understand that this is just a convention (boilerplate) to get you used to \"functions\" which is a concept we'll explore in detail later. We will continue this convention for many of our assignments."
   ]
  },
  {
   "cell_type": "code",
   "execution_count": 3,
   "id": "3971634f-eda1-4159-87ce-2883732515ac",
   "metadata": {},
   "outputs": [
    {
     "name": "stdout",
     "output_type": "stream",
     "text": [
      "Hello, world!\n",
      "10\n",
      "0\n",
      "15\n",
      "5.0\n",
      "4\n",
      "16\n",
      "194.87171000000012\n"
     ]
    }
   ],
   "source": [
    "# Define our function\n",
    "def start_and_calculator():\n",
    "    \n",
    "    # Your first program\n",
    "    print('Hello, world!')\n",
    "\n",
    "    # Addition, subtraction\n",
    "\n",
    "    print(5 + 5)\n",
    "\n",
    "    print(5 - 5)\n",
    "\n",
    "    # Multiplication, division, modulo, and exponentiation\n",
    "\n",
    "    print(3 * 5)\n",
    "\n",
    "    print(10 / 2)\n",
    "\n",
    "    print(18 % 7)\n",
    "\n",
    "    print(4 ** 2)\n",
    "\n",
    "\n",
    "    # How much is your $100 worth after 7 years?\n",
    "\n",
    "    print(100 * (1.1)**7)\n",
    "\n",
    "# Run our function\n",
    "start_and_calculator()"
   ]
  },
  {
   "cell_type": "markdown",
   "id": "426896aa-9341-4d64-bcf3-9d43890a5987",
   "metadata": {},
   "source": [
    "## Variables"
   ]
  },
  {
   "cell_type": "code",
   "execution_count": 4,
   "id": "f872dee7-53eb-4f61-a2da-6f0ad04b5ace",
   "metadata": {},
   "outputs": [
    {
     "name": "stdout",
     "output_type": "stream",
     "text": [
      "100\n",
      "194.87171000000012\n"
     ]
    }
   ],
   "source": [
    "def variables():\n",
    "    \n",
    "    # Create a savings variable \n",
    "    savings = 100\n",
    "\n",
    "    # Print out savings\n",
    "    print(savings)\n",
    "\n",
    "    # Create a variable growth_multiplier\n",
    "    growth_multiplier = 1.1\n",
    "\n",
    "\n",
    "    # Calculate result\n",
    "    result = savings * growth_multiplier ** 7\n",
    "\n",
    "\n",
    "    # Print out result\n",
    "    print(result)\n",
    "    \n",
    "variables()"
   ]
  },
  {
   "cell_type": "markdown",
   "id": "974c5e79-d05f-4863-8741-1a003bd3a8b3",
   "metadata": {},
   "source": [
    "## Variables and Types"
   ]
  },
  {
   "cell_type": "code",
   "execution_count": 5,
   "id": "acab9081-3960-4161-9c8d-a2b6da7db15f",
   "metadata": {},
   "outputs": [
    {
     "name": "stdout",
     "output_type": "stream",
     "text": [
      "True\n",
      "<class 'int'>\n",
      "<class 'float'>\n",
      "<class 'bool'>\n",
      "compound interestcompound interest\n",
      "<class 'str'>\n"
     ]
    }
   ],
   "source": [
    "def variables_and_types():\n",
    "    \n",
    "    savings = 100\n",
    "    growth_multiplier = 1.1\n",
    "    desc = \"compound interest\"\n",
    "\n",
    "    # Assign product of growth_multiplier and savings to year1\n",
    "    year1 = savings * growth_multiplier\n",
    "\n",
    "    # Was the investment profitable?\n",
    "    profitable = year1 > savings\n",
    "    print(profitable)\n",
    "\n",
    "    # Print the type of savings, year1 and profitable\n",
    "    print(type(savings))\n",
    "    print(type(year1))\n",
    "    print(type(profitable))\n",
    "\n",
    "    # Assign sum of desc and desc to doubledesc\n",
    "    doubledesc = desc + desc\n",
    "\n",
    "    # Print out doubledesc\n",
    "    print(doubledesc)\n",
    "    print(type(doubledesc))\n",
    "    \n",
    "variables_and_types()"
   ]
  },
  {
   "cell_type": "markdown",
   "id": "d764bb03-6d9f-4731-857e-cf044cbf77fb",
   "metadata": {},
   "source": [
    "## Strings"
   ]
  },
  {
   "cell_type": "code",
   "execution_count": 6,
   "id": "637487a5-a05a-4cd8-8d7a-05b7ed76e327",
   "metadata": {},
   "outputs": [
    {
     "name": "stdout",
     "output_type": "stream",
     "text": [
      "Our greeting is:  Hello, world!\n",
      "The first letter of our greeting is:  e\n",
      "The ACTUAL first letter of our greeting is:  H\n",
      "First approach:  Hello\n",
      "Second approach:  Hello\n",
      "First whole slice:  Hello, world!\n",
      "Second whole slice:  Hello, world!\n"
     ]
    }
   ],
   "source": [
    "def strings_1():\n",
    "    \n",
    "    # indexing\n",
    "    greeting = \"Hello, world!\"\n",
    "    print(\"Our greeting is: \", greeting)\n",
    "    first_letter = greeting[1]\n",
    "    print(\"The first letter of our greeting is: \", first_letter) # oops!\n",
    "    actual_first_letter = greeting[0]\n",
    "    print(\"The ACTUAL first letter of our greeting is: \", actual_first_letter)\n",
    "\n",
    "    # Slicing\n",
    "    first_word = greeting[0:5]\n",
    "    first_word2 = greeting[:5]\n",
    "    print(\"First approach: \", first_word)\n",
    "    print(\"Second approach: \", first_word2)\n",
    "\n",
    "    whole_slice = greeting[0:]\n",
    "    whole_slice2 = greeting[:]\n",
    "    print(\"First whole slice: \", whole_slice)\n",
    "    print(\"Second whole slice: \", whole_slice2)\n",
    "    \n",
    "strings_1()"
   ]
  },
  {
   "cell_type": "markdown",
   "id": "0b861c03-ee8f-4a0d-923c-b7600c5b5d65",
   "metadata": {},
   "source": [
    "# Week 1 Exercises -------------------------------\n",
    "\n",
    "Fill in the following exercise prompts to complete the exercises below.\n",
    "\n",
    "NOTE: replace the XXXX with your answer(s) to give the correct output."
   ]
  },
  {
   "cell_type": "markdown",
   "id": "58d46e4b-7e0f-4044-9b39-0dce398cfb90",
   "metadata": {},
   "source": [
    "## Calculator Exercises"
   ]
  },
  {
   "cell_type": "code",
   "execution_count": 7,
   "id": "41e32a51-3b95-4316-b5de-0735d7c340b2",
   "metadata": {},
   "outputs": [
    {
     "name": "stdout",
     "output_type": "stream",
     "text": [
      "6\n",
      "3.0\n",
      "The average job duration is:  8.0\n"
     ]
    }
   ],
   "source": [
    "def calc_exercises():\n",
    "    \n",
    "    # What's 10 minus 4?\n",
    "    print(XXXX - XXXX)\n",
    "    # What's the square root of 9? Hint: raise 9 to the 1/2 power!\n",
    "    print(XXXX ** (XXXX/XXXX))\n",
    "    # What's the average job duration for jobs lasting 5, 3, and 16 minutes?\n",
    "    print(\"The average job duration is: \", (XXXX + XXXX + XXXX) / XXXX)\n",
    "    \n",
    "calc_exercises()"
   ]
  },
  {
   "cell_type": "markdown",
   "id": "ca606958-8691-4a34-b792-43d0211e970c",
   "metadata": {},
   "source": [
    "## Variables Exercises"
   ]
  },
  {
   "cell_type": "code",
   "execution_count": 8,
   "id": "64d4ee3b-b097-4447-b9c3-b8a65ba0f7f5",
   "metadata": {},
   "outputs": [
    {
     "name": "stdout",
     "output_type": "stream",
     "text": [
      "The HPC is:  2.5\n"
     ]
    }
   ],
   "source": [
    "def variables_exercises():\n",
    "    \n",
    "    # Create the variable \"hours\" with a value of 10\n",
    "    hours = XXXX\n",
    "    # Create the variable \"completions\" with the value of 4\n",
    "    completions = XXXX\n",
    "    # Calculate hours per completion and print with the message \"The HPC is\"\n",
    "    hours_per_completion = XXXX / XXXX\n",
    "    print(\"The HPC is: \", hours_per_completion)\n",
    "    \n",
    "variables_exercises()"
   ]
  },
  {
   "cell_type": "markdown",
   "id": "410c2b72-b76b-45fc-9128-bbff19e1d79b",
   "metadata": {},
   "source": [
    "## Variables and Types Exercises"
   ]
  },
  {
   "cell_type": "code",
   "execution_count": 9,
   "id": "928fd770-0822-40e2-985c-0a51d03534c9",
   "metadata": {},
   "outputs": [
    {
     "name": "stdout",
     "output_type": "stream",
     "text": [
      "<class 'float'>\n",
      "False\n",
      "<class 'bool'>\n"
     ]
    }
   ],
   "source": [
    "def vars_and_types_exercises():\n",
    "    \n",
    "    # define a repeat rate variable, set it to 0.15, and find its type\n",
    "    repeat_rate = XXXX\n",
    "    print(type(XXXX))\n",
    "    # define another repeat rate variable, set it to 0.05\n",
    "    repeat_rate_2 = XXXX\n",
    "    # define a variable that checks whether the second rate is greater than the first, print it, and print its type\n",
    "    rates_comparison = XXXX > XXXX\n",
    "    print(rates_comparison)\n",
    "    print(type(rates_comparison))\n",
    "    \n",
    "vars_and_types_exercises()"
   ]
  },
  {
   "cell_type": "markdown",
   "id": "55e363da-8233-4215-85b0-727d1dff9e4f",
   "metadata": {},
   "source": [
    "## Strings Exercises"
   ]
  },
  {
   "cell_type": "code",
   "execution_count": 11,
   "id": "432bb14f-8edc-4ff8-b51e-f686670a4be1",
   "metadata": {},
   "outputs": [
    {
     "name": "stdout",
     "output_type": "stream",
     "text": [
      "ca\n",
      "045u\n",
      "ca045u\n",
      "CA045U\n",
      "True\n"
     ]
    }
   ],
   "source": [
    "def strings_1_exercises():\n",
    "    \n",
    "    # define a variable called \"user_uid\" with the 6 character user id -> ca045u\n",
    "    XXXX = 'ca045u'\n",
    "    # define a variable that grabs the first two characters of your ATT UID. Print the result\n",
    "    first_two = user_uid[XXXX]\n",
    "    print(first_two)\n",
    "    # define a variable that grabs the remaining characters of your ATT UID. Print the result\n",
    "    remainder = user_uid[XXXX]\n",
    "    print(remainder)\n",
    "    # concatenate the two previous variables to create your ATT UID in a new variable. Print the result\n",
    "    user_uid_again = XXXX + XXXX\n",
    "    print(user_uid_again)\n",
    "    # capitalize / lowercase your ATT UID as appropriate\n",
    "    print(XXXX.upper())\n",
    "    # check if the letter C is in your ATT UID\n",
    "    print('c' in XXXX)\n",
    "    \n",
    "strings_1_exercises()"
   ]
  }
 ],
 "metadata": {
  "kernelspec": {
   "display_name": "Python 3 (ipykernel)",
   "language": "python",
   "name": "python3"
  },
  "language_info": {
   "codemirror_mode": {
    "name": "ipython",
    "version": 3
   },
   "file_extension": ".py",
   "mimetype": "text/x-python",
   "name": "python",
   "nbconvert_exporter": "python",
   "pygments_lexer": "ipython3",
   "version": "3.10.6"
  }
 },
 "nbformat": 4,
 "nbformat_minor": 5
}
